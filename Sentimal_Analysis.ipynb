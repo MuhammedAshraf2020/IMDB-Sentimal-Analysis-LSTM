{
  "nbformat": 4,
  "nbformat_minor": 0,
  "metadata": {
    "colab": {
      "name": "Sentimal Analysis.ipynb",
      "provenance": [],
      "authorship_tag": "ABX9TyPXjB2B5ceByFHm4PKffI1A",
      "include_colab_link": true
    },
    "kernelspec": {
      "name": "python3",
      "display_name": "Python 3"
    },
    "language_info": {
      "name": "python"
    },
    "accelerator": "GPU"
  },
  "cells": [
    {
      "cell_type": "markdown",
      "metadata": {
        "id": "view-in-github",
        "colab_type": "text"
      },
      "source": [
        "<a href=\"https://colab.research.google.com/github/MuhammedAshraf2020/IMDB-Sentimal-Analysis-LSTM/blob/main/Sentimal_Analysis.ipynb\" target=\"_parent\"><img src=\"https://colab.research.google.com/assets/colab-badge.svg\" alt=\"Open In Colab\"/></a>"
      ]
    },
    {
      "cell_type": "markdown",
      "metadata": {
        "id": "V4A9JJV8PQqk"
      },
      "source": [
        "## Load Data"
      ]
    },
    {
      "cell_type": "code",
      "metadata": {
        "id": "kyP606m2hxh2"
      },
      "source": [
        "from keras.datasets import imdb\n",
        "import pandas as pd\n",
        "import numpy as np\n",
        "import string   \n",
        "import re"
      ],
      "execution_count": 1,
      "outputs": []
    },
    {
      "cell_type": "code",
      "metadata": {
        "id": "sfRUqaKZPmHb"
      },
      "source": [
        "!mkdir ~/.kaggle\n",
        "!cp kaggle.json ~/.kaggle\n",
        "!chmod 600 ~/.kaggle/kaggle.json"
      ],
      "execution_count": null,
      "outputs": []
    },
    {
      "cell_type": "code",
      "metadata": {
        "colab": {
          "base_uri": "https://localhost:8080/"
        },
        "id": "Fg5As65qPvix",
        "outputId": "307cd7b4-d5fb-4804-cef3-1363166da456"
      },
      "source": [
        "!kaggle datasets download -d lakshmi25npathi/imdb-dataset-of-50k-movie-reviews"
      ],
      "execution_count": 5,
      "outputs": [
        {
          "output_type": "stream",
          "text": [
            "Downloading imdb-dataset-of-50k-movie-reviews.zip to /content\n",
            " 47% 12.0M/25.7M [00:00<00:00, 122MB/s]\n",
            "100% 25.7M/25.7M [00:00<00:00, 164MB/s]\n"
          ],
          "name": "stdout"
        }
      ]
    },
    {
      "cell_type": "code",
      "metadata": {
        "colab": {
          "base_uri": "https://localhost:8080/"
        },
        "id": "Jp_LgavSRhDO",
        "outputId": "2f328ebe-4ecb-4c13-aba9-a05f89b49459"
      },
      "source": [
        "!unzip /content/imdb-dataset-of-50k-movie-reviews.zip"
      ],
      "execution_count": 6,
      "outputs": [
        {
          "output_type": "stream",
          "text": [
            "Archive:  /content/imdb-dataset-of-50k-movie-reviews.zip\n",
            "  inflating: IMDB Dataset.csv        \n"
          ],
          "name": "stdout"
        }
      ]
    },
    {
      "cell_type": "code",
      "metadata": {
        "id": "21-DrtCGRqFW"
      },
      "source": [
        "dataset = pd.read_csv(\"/content/IMDB Dataset.csv\")"
      ],
      "execution_count": 7,
      "outputs": []
    },
    {
      "cell_type": "code",
      "metadata": {
        "id": "Qx5UtOmeR0eY",
        "outputId": "a88199a3-8759-4b64-b32f-49858a785edf",
        "colab": {
          "base_uri": "https://localhost:8080/",
          "height": 204
        }
      },
      "source": [
        "dataset.head()"
      ],
      "execution_count": 8,
      "outputs": [
        {
          "output_type": "execute_result",
          "data": {
            "text/html": [
              "<div>\n",
              "<style scoped>\n",
              "    .dataframe tbody tr th:only-of-type {\n",
              "        vertical-align: middle;\n",
              "    }\n",
              "\n",
              "    .dataframe tbody tr th {\n",
              "        vertical-align: top;\n",
              "    }\n",
              "\n",
              "    .dataframe thead th {\n",
              "        text-align: right;\n",
              "    }\n",
              "</style>\n",
              "<table border=\"1\" class=\"dataframe\">\n",
              "  <thead>\n",
              "    <tr style=\"text-align: right;\">\n",
              "      <th></th>\n",
              "      <th>review</th>\n",
              "      <th>sentiment</th>\n",
              "    </tr>\n",
              "  </thead>\n",
              "  <tbody>\n",
              "    <tr>\n",
              "      <th>0</th>\n",
              "      <td>One of the other reviewers has mentioned that ...</td>\n",
              "      <td>positive</td>\n",
              "    </tr>\n",
              "    <tr>\n",
              "      <th>1</th>\n",
              "      <td>A wonderful little production. &lt;br /&gt;&lt;br /&gt;The...</td>\n",
              "      <td>positive</td>\n",
              "    </tr>\n",
              "    <tr>\n",
              "      <th>2</th>\n",
              "      <td>I thought this was a wonderful way to spend ti...</td>\n",
              "      <td>positive</td>\n",
              "    </tr>\n",
              "    <tr>\n",
              "      <th>3</th>\n",
              "      <td>Basically there's a family where a little boy ...</td>\n",
              "      <td>negative</td>\n",
              "    </tr>\n",
              "    <tr>\n",
              "      <th>4</th>\n",
              "      <td>Petter Mattei's \"Love in the Time of Money\" is...</td>\n",
              "      <td>positive</td>\n",
              "    </tr>\n",
              "  </tbody>\n",
              "</table>\n",
              "</div>"
            ],
            "text/plain": [
              "                                              review sentiment\n",
              "0  One of the other reviewers has mentioned that ...  positive\n",
              "1  A wonderful little production. <br /><br />The...  positive\n",
              "2  I thought this was a wonderful way to spend ti...  positive\n",
              "3  Basically there's a family where a little boy ...  negative\n",
              "4  Petter Mattei's \"Love in the Time of Money\" is...  positive"
            ]
          },
          "metadata": {
            "tags": []
          },
          "execution_count": 8
        }
      ]
    },
    {
      "cell_type": "code",
      "metadata": {
        "id": "p5HH_sGuSFs4",
        "outputId": "1a2faed6-7bd5-4a95-b247-3253f49e594f",
        "colab": {
          "base_uri": "https://localhost:8080/"
        }
      },
      "source": [
        "dataset.info()"
      ],
      "execution_count": 9,
      "outputs": [
        {
          "output_type": "stream",
          "text": [
            "<class 'pandas.core.frame.DataFrame'>\n",
            "RangeIndex: 50000 entries, 0 to 49999\n",
            "Data columns (total 2 columns):\n",
            " #   Column     Non-Null Count  Dtype \n",
            "---  ------     --------------  ----- \n",
            " 0   review     50000 non-null  object\n",
            " 1   sentiment  50000 non-null  object\n",
            "dtypes: object(2)\n",
            "memory usage: 781.4+ KB\n"
          ],
          "name": "stdout"
        }
      ]
    },
    {
      "cell_type": "markdown",
      "metadata": {
        "id": "yW23Ni1_SixQ"
      },
      "source": [
        "## Data Preprocessing\n"
      ]
    },
    {
      "cell_type": "code",
      "metadata": {
        "id": "xICX4lAPSLvy"
      },
      "source": [
        "dataset[\"review\"] = dataset[\"review\"].str.lower()"
      ],
      "execution_count": 10,
      "outputs": []
    },
    {
      "cell_type": "code",
      "metadata": {
        "id": "0ZIbLq7SS262",
        "outputId": "3ab7d77e-3079-4df2-a21e-b2a5583cb6ac",
        "colab": {
          "base_uri": "https://localhost:8080/"
        }
      },
      "source": [
        "dataset[\"review\"][0:]"
      ],
      "execution_count": 11,
      "outputs": [
        {
          "output_type": "execute_result",
          "data": {
            "text/plain": [
              "0        one of the other reviewers has mentioned that ...\n",
              "1        a wonderful little production. <br /><br />the...\n",
              "2        i thought this was a wonderful way to spend ti...\n",
              "3        basically there's a family where a little boy ...\n",
              "4        petter mattei's \"love in the time of money\" is...\n",
              "                               ...                        \n",
              "49995    i thought this movie did a down right good job...\n",
              "49996    bad plot, bad dialogue, bad acting, idiotic di...\n",
              "49997    i am a catholic taught in parochial elementary...\n",
              "49998    i'm going to have to disagree with the previou...\n",
              "49999    no one expects the star trek movies to be high...\n",
              "Name: review, Length: 50000, dtype: object"
            ]
          },
          "metadata": {
            "tags": []
          },
          "execution_count": 11
        }
      ]
    },
    {
      "cell_type": "code",
      "metadata": {
        "id": "SroURjTvS6dO"
      },
      "source": [
        "\n",
        "bidirdata = [ \"a\", \"about\", \"above\", \"after\", \"again\", \"against\", \"all\", \"am\", \"an\", \"and\", \"any\", \"are\", \"as\", \"at\", \"be\", \"because\", \n",
        "             \"been\", \"before\", \"being\", \"below\", \"between\", \"both\", \"but\", \"by\", \"could\", \"did\", \"do\", \"does\", \"doing\", \"down\", \"during\",\n",
        "             \"each\", \"few\", \"for\", \"from\", \"further\", \"had\", \"has\", \"have\", \"having\", \"he\", \"he'd\", \"he'll\", \"he's\", \"her\", \"here\", \n",
        "             \"here's\", \"hers\", \"herself\", \"him\", \"himself\", \"his\", \"how\", \"how's\", \"i\", \"i'd\", \"i'll\", \"i'm\", \"i've\", \"if\", \"in\", \"into\",\n",
        "             \"is\", \"it\", \"it's\", \"its\", \"itself\", \"let's\", \"me\", \"more\", \"most\", \"my\", \"myself\", \"nor\", \"of\", \"on\", \"once\", \"only\", \"or\",\n",
        "             \"other\", \"ought\", \"our\", \"ours\", \"ourselves\", \"out\", \"over\", \"own\", \"same\", \"she\", \"she'd\", \"she'll\", \"she's\", \"should\", \n",
        "             \"so\", \"some\", \"such\", \"than\", \"that\", \"that's\", \"the\", \"their\", \"theirs\", \"them\", \"themselves\", \"then\", \"there\", \"there's\",\n",
        "             \"these\", \"they\", \"they'd\", \"they'll\", \"they're\", \"they've\", \"this\", \"those\", \"through\", \"to\", \"too\", \"under\", \"until\", \"up\",\n",
        "             \"very\", \"was\", \"we\", \"we'd\", \"we'll\", \"we're\", \"we've\", \"were\", \"what\", \"what's\", \"when\", \"when's\", \"where\", \"where's\",\n",
        "             \"which\", \"while\", \"who\", \"who's\", \"whom\", \"why\", \"why's\", \"with\", \"would\", \"you\", \"you'd\", \"you'll\", \"you're\", \"you've\",\n",
        "             \"your\", \"yours\", \"yourself\", \"yourselves\" ]"
      ],
      "execution_count": 12,
      "outputs": []
    },
    {
      "cell_type": "code",
      "metadata": {
        "id": "0EyW3VSATngE"
      },
      "source": [
        "dataset[\"new reviews\"] = dataset[\"review\"].apply(lambda x : \" \".join([word for word in x.split() if word not in bidirdata]))"
      ],
      "execution_count": 13,
      "outputs": []
    },
    {
      "cell_type": "code",
      "metadata": {
        "id": "IoFs2bV_Uf15"
      },
      "source": [
        "def remove_tags(string):\n",
        "  string = re.sub(\"<.*?>\" , \"\" , string)\n",
        "  return string"
      ],
      "execution_count": 14,
      "outputs": []
    },
    {
      "cell_type": "code",
      "metadata": {
        "id": "8L7zqfuGW7-q"
      },
      "source": [
        "dataset[\"new reviews\"] = dataset[\"new reviews\"].apply(lambda x: remove_tags(x))"
      ],
      "execution_count": 15,
      "outputs": []
    },
    {
      "cell_type": "code",
      "metadata": {
        "id": "o7vsuZZhXVJC",
        "outputId": "46217ae5-278d-417c-8146-fdb7fab0a11d",
        "colab": {
          "base_uri": "https://localhost:8080/"
        }
      },
      "source": [
        "print(dataset[\"new reviews\"][0])\n",
        "print(dataset[\"review\"][0])"
      ],
      "execution_count": 16,
      "outputs": [
        {
          "output_type": "stream",
          "text": [
            "one reviewers mentioned watching just 1 oz episode hooked. right, exactly happened me.the first thing struck oz brutality unflinching scenes violence, set right word go. trust me, not show faint hearted timid. show pulls no punches regards drugs, sex violence. hardcore, classic use word.it called oz nickname given oswald maximum security state penitentary. focuses mainly emerald city, experimental section prison cells glass fronts face inwards, privacy not high agenda. em city home many..aryans, muslims, gangstas, latinos, christians, italians, irish more....so scuffles, death stares, dodgy dealings shady agreements never far away.i say main appeal show due fact goes shows wouldn't dare. forget pretty pictures painted mainstream audiences, forget charm, forget romance...oz doesn't mess around. first episode ever saw struck nasty surreal, couldn't say ready it, watched more, developed taste oz, got accustomed high levels graphic violence. not just violence, injustice (crooked guards who'll sold nickel, inmates who'll kill order get away it, well mannered, middle class inmates turned prison bitches due lack street skills prison experience) watching oz, may become comfortable uncomfortable viewing....thats can get touch darker side.\n",
            "one of the other reviewers has mentioned that after watching just 1 oz episode you'll be hooked. they are right, as this is exactly what happened with me.<br /><br />the first thing that struck me about oz was its brutality and unflinching scenes of violence, which set in right from the word go. trust me, this is not a show for the faint hearted or timid. this show pulls no punches with regards to drugs, sex or violence. its is hardcore, in the classic use of the word.<br /><br />it is called oz as that is the nickname given to the oswald maximum security state penitentary. it focuses mainly on emerald city, an experimental section of the prison where all the cells have glass fronts and face inwards, so privacy is not high on the agenda. em city is home to many..aryans, muslims, gangstas, latinos, christians, italians, irish and more....so scuffles, death stares, dodgy dealings and shady agreements are never far away.<br /><br />i would say the main appeal of the show is due to the fact that it goes where other shows wouldn't dare. forget pretty pictures painted for mainstream audiences, forget charm, forget romance...oz doesn't mess around. the first episode i ever saw struck me as so nasty it was surreal, i couldn't say i was ready for it, but as i watched more, i developed a taste for oz, and got accustomed to the high levels of graphic violence. not just violence, but injustice (crooked guards who'll be sold out for a nickel, inmates who'll kill on order and get away with it, well mannered, middle class inmates being turned into prison bitches due to their lack of street skills or prison experience) watching oz, you may become comfortable with what is uncomfortable viewing....thats if you can get in touch with your darker side.\n"
          ],
          "name": "stdout"
        }
      ]
    },
    {
      "cell_type": "code",
      "metadata": {
        "id": "Be_cRJwxXo0Q"
      },
      "source": [
        "dataset[\"new reviews\"] = dataset[\"new reviews\"].str.replace('[{}]'.format(string.punctuation), ' ')"
      ],
      "execution_count": 17,
      "outputs": []
    },
    {
      "cell_type": "code",
      "metadata": {
        "id": "YgX-KintX4ya"
      },
      "source": [
        "dataset.drop('review', inplace=True, axis=1)"
      ],
      "execution_count": 18,
      "outputs": []
    },
    {
      "cell_type": "code",
      "metadata": {
        "id": "jnWo_tuKYMDb",
        "outputId": "0bb039dc-4e86-4f98-fa0a-ef5697475e9a",
        "colab": {
          "base_uri": "https://localhost:8080/",
          "height": 204
        }
      },
      "source": [
        "dataset.head()"
      ],
      "execution_count": 19,
      "outputs": [
        {
          "output_type": "execute_result",
          "data": {
            "text/html": [
              "<div>\n",
              "<style scoped>\n",
              "    .dataframe tbody tr th:only-of-type {\n",
              "        vertical-align: middle;\n",
              "    }\n",
              "\n",
              "    .dataframe tbody tr th {\n",
              "        vertical-align: top;\n",
              "    }\n",
              "\n",
              "    .dataframe thead th {\n",
              "        text-align: right;\n",
              "    }\n",
              "</style>\n",
              "<table border=\"1\" class=\"dataframe\">\n",
              "  <thead>\n",
              "    <tr style=\"text-align: right;\">\n",
              "      <th></th>\n",
              "      <th>sentiment</th>\n",
              "      <th>new reviews</th>\n",
              "    </tr>\n",
              "  </thead>\n",
              "  <tbody>\n",
              "    <tr>\n",
              "      <th>0</th>\n",
              "      <td>positive</td>\n",
              "      <td>one reviewers mentioned watching just 1 oz epi...</td>\n",
              "    </tr>\n",
              "    <tr>\n",
              "      <th>1</th>\n",
              "      <td>positive</td>\n",
              "      <td>wonderful little production  the filming techn...</td>\n",
              "    </tr>\n",
              "    <tr>\n",
              "      <th>2</th>\n",
              "      <td>positive</td>\n",
              "      <td>thought wonderful way spend time hot summer we...</td>\n",
              "    </tr>\n",
              "    <tr>\n",
              "      <th>3</th>\n",
              "      <td>negative</td>\n",
              "      <td>basically family little boy  jake  thinks zomb...</td>\n",
              "    </tr>\n",
              "    <tr>\n",
              "      <th>4</th>\n",
              "      <td>positive</td>\n",
              "      <td>petter mattei s  love time money  visually stu...</td>\n",
              "    </tr>\n",
              "  </tbody>\n",
              "</table>\n",
              "</div>"
            ],
            "text/plain": [
              "  sentiment                                        new reviews\n",
              "0  positive  one reviewers mentioned watching just 1 oz epi...\n",
              "1  positive  wonderful little production  the filming techn...\n",
              "2  positive  thought wonderful way spend time hot summer we...\n",
              "3  negative  basically family little boy  jake  thinks zomb...\n",
              "4  positive  petter mattei s  love time money  visually stu..."
            ]
          },
          "metadata": {
            "tags": []
          },
          "execution_count": 19
        }
      ]
    },
    {
      "cell_type": "code",
      "metadata": {
        "id": "Cueo85_ijYX6"
      },
      "source": [
        "def numurize(sent):\n",
        "  if sent == \"positive\":\n",
        "    return 1\n",
        "  else:\n",
        "    return 0"
      ],
      "execution_count": 20,
      "outputs": []
    },
    {
      "cell_type": "code",
      "metadata": {
        "id": "92ynwR8YYUcZ"
      },
      "source": [
        "dataset[\"sentiment\"] = dataset[\"sentiment\"].apply(lambda x : numurize(x))"
      ],
      "execution_count": 21,
      "outputs": []
    },
    {
      "cell_type": "code",
      "metadata": {
        "id": "bCtbq04ukWCm",
        "outputId": "8060fbf8-ea17-4bc0-8702-d3c6dec73fc3",
        "colab": {
          "base_uri": "https://localhost:8080/"
        }
      },
      "source": [
        "dataset.info()"
      ],
      "execution_count": 23,
      "outputs": [
        {
          "output_type": "stream",
          "text": [
            "<class 'pandas.core.frame.DataFrame'>\n",
            "RangeIndex: 50000 entries, 0 to 49999\n",
            "Data columns (total 2 columns):\n",
            " #   Column       Non-Null Count  Dtype \n",
            "---  ------       --------------  ----- \n",
            " 0   sentiment    50000 non-null  int64 \n",
            " 1   new reviews  50000 non-null  object\n",
            "dtypes: int64(1), object(1)\n",
            "memory usage: 781.4+ KB\n"
          ],
          "name": "stdout"
        }
      ]
    },
    {
      "cell_type": "code",
      "metadata": {
        "id": "CdTpoWtSka0T"
      },
      "source": [
        "y = np.array(dataset[\"sentiment\"])"
      ],
      "execution_count": 26,
      "outputs": []
    },
    {
      "cell_type": "code",
      "metadata": {
        "id": "W0Kw3swUkpoE"
      },
      "source": [
        "x = list(dataset[\"new reviews\"])"
      ],
      "execution_count": 30,
      "outputs": []
    },
    {
      "cell_type": "code",
      "metadata": {
        "id": "6r3FrB1Olp3E"
      },
      "source": [
        "from sklearn.model_selection import train_test_split "
      ],
      "execution_count": 33,
      "outputs": []
    },
    {
      "cell_type": "code",
      "metadata": {
        "id": "GyqUmLhNlxxS"
      },
      "source": [
        "x_train , x_test , y_train , y_test = train_test_split(x , y , test_size = 0.2)"
      ],
      "execution_count": 164,
      "outputs": []
    },
    {
      "cell_type": "code",
      "metadata": {
        "id": "kEKS9ineEohD",
        "outputId": "fd610a43-ceab-44c5-8c36-374ef9d86dca",
        "colab": {
          "base_uri": "https://localhost:8080/"
        }
      },
      "source": [
        "print(\"Len of reviews in train =\" , len(x_train))\n",
        "print(\"Len of reviews in test  =\" , len(x_test))"
      ],
      "execution_count": 165,
      "outputs": [
        {
          "output_type": "stream",
          "text": [
            "Len of reviews in train = 40000\n",
            "Len of reviews in test  = 10000\n"
          ],
          "name": "stdout"
        }
      ]
    },
    {
      "cell_type": "code",
      "metadata": {
        "id": "BJ2r9yGbmFOG"
      },
      "source": [
        "from keras.preprocessing.text import Tokenizer"
      ],
      "execution_count": 38,
      "outputs": []
    },
    {
      "cell_type": "code",
      "metadata": {
        "id": "C8S0OUigmlaC"
      },
      "source": [
        "tokinezer = Tokenizer(num_words = 5000)\n",
        "tokinezer.fit_on_texts(x_train)\n",
        "\n",
        "words_to_index = tokinezer.word_index"
      ],
      "execution_count": 166,
      "outputs": []
    },
    {
      "cell_type": "code",
      "metadata": {
        "id": "nQqQEchoFGPc",
        "outputId": "75a076e0-e0a3-42bc-8171-56cdcb44fa1e",
        "colab": {
          "base_uri": "https://localhost:8080/"
        }
      },
      "source": [
        "len(words_to_index)"
      ],
      "execution_count": 167,
      "outputs": [
        {
          "output_type": "execute_result",
          "data": {
            "text/plain": [
              "95660"
            ]
          },
          "metadata": {
            "tags": []
          },
          "execution_count": 167
        }
      ]
    },
    {
      "cell_type": "code",
      "metadata": {
        "id": "s5e7pRwAo0x5",
        "outputId": "e7136cf5-0cce-462f-c7b4-2dfc8de7c7e2",
        "colab": {
          "base_uri": "https://localhost:8080/"
        }
      },
      "source": [
        "!kaggle datasets download -d watts2/glove6b50dtxt"
      ],
      "execution_count": 46,
      "outputs": [
        {
          "output_type": "stream",
          "text": [
            "Downloading glove6b50dtxt.zip to /content\n",
            " 78% 53.0M/67.7M [00:00<00:00, 71.8MB/s]\n",
            "100% 67.7M/67.7M [00:00<00:00, 125MB/s] \n"
          ],
          "name": "stdout"
        }
      ]
    },
    {
      "cell_type": "code",
      "metadata": {
        "id": "xJRIjnh4qL4Y",
        "outputId": "f4490201-fc5e-4f8e-c30a-fa9f68f99e29",
        "colab": {
          "base_uri": "https://localhost:8080/"
        }
      },
      "source": [
        "!unzip /content/glove6b50dtxt.zip"
      ],
      "execution_count": 47,
      "outputs": [
        {
          "output_type": "stream",
          "text": [
            "Archive:  /content/glove6b50dtxt.zip\n",
            "  inflating: glove.6B.50d.txt        \n"
          ],
          "name": "stdout"
        }
      ]
    },
    {
      "cell_type": "code",
      "metadata": {
        "id": "omTfz6HpqSFw"
      },
      "source": [
        "def read_glove_vector(glove_vec):\n",
        "  with open(glove_vec, 'r', encoding='UTF-8') as f:\n",
        "    words = set()\n",
        "    word_to_vec_map = {}\n",
        "    for line in f:\n",
        "      w_line = line.split()\n",
        "      curr_word = w_line[0]\n",
        "      word_to_vec_map[curr_word] = np.array(w_line[1:], dtype=np.float64)\n",
        "  return word_to_vec_map"
      ],
      "execution_count": 48,
      "outputs": []
    },
    {
      "cell_type": "code",
      "metadata": {
        "id": "gORAq_UTqXdO"
      },
      "source": [
        "word_to_vec_map = read_glove_vector('/content/glove.6B.50d.txt')"
      ],
      "execution_count": 50,
      "outputs": []
    },
    {
      "cell_type": "code",
      "metadata": {
        "id": "m4Pve7qxq5lx"
      },
      "source": [
        "vocuablary_len = len(words_to_index)\n",
        "embeded_len = word_to_vec_map[\"love\"].shape[0]\n",
        "max_len = 150"
      ],
      "execution_count": 168,
      "outputs": []
    },
    {
      "cell_type": "code",
      "metadata": {
        "id": "oiFdJWsBsw8c",
        "outputId": "183ede70-6f16-49c1-d242-03d64a5db697",
        "colab": {
          "base_uri": "https://localhost:8080/"
        }
      },
      "source": [
        "print(\"Number of Words =\", vocuablary_len)\n",
        "print(\"Number of Reviews =\" , len(x_train))\n",
        "print(\"Length of Embeded Vector =\" , embeded_len )\n",
        "print(\"Max Length of Words In a Review =\" , max_len)"
      ],
      "execution_count": 169,
      "outputs": [
        {
          "output_type": "stream",
          "text": [
            "Number of Words = 95660\n",
            "Number of Reviews = 40000\n",
            "Length of Embeded Vector = 50\n",
            "Max Length of Words In a Review = 150\n"
          ],
          "name": "stdout"
        }
      ]
    },
    {
      "cell_type": "markdown",
      "metadata": {
        "id": "Sr9xDKEexNUg"
      },
      "source": [
        "## Build Model"
      ]
    },
    {
      "cell_type": "code",
      "metadata": {
        "id": "faO5G7j8xMw7"
      },
      "source": [
        "from keras.models import Model\n",
        "from keras.layers import Dense , Embedding , LSTM , Input , Dropout"
      ],
      "execution_count": 108,
      "outputs": []
    },
    {
      "cell_type": "code",
      "metadata": {
        "id": "LjAd_XaJxhRE"
      },
      "source": [
        "#initialize embeded matrix\n",
        "embed_matrix = np.zeros((vocuablary_len , embeded_len))\n",
        "\n",
        "for word , index in words_to_index.items():\n",
        "  embed_vect = word_to_vec_map.get(word)\n",
        "  if embed_vect is not None:\n",
        "    embed_matrix[index -1 , :] = embed_vect"
      ],
      "execution_count": 170,
      "outputs": []
    },
    {
      "cell_type": "code",
      "metadata": {
        "id": "2Ucjwf8lzAGh",
        "outputId": "f4c16608-b893-4aea-fa86-2facf05e25ef",
        "colab": {
          "base_uri": "https://localhost:8080/"
        }
      },
      "source": [
        "embed_matrix.shape"
      ],
      "execution_count": 171,
      "outputs": [
        {
          "output_type": "execute_result",
          "data": {
            "text/plain": [
              "(95660, 50)"
            ]
          },
          "metadata": {
            "tags": []
          },
          "execution_count": 171
        }
      ]
    },
    {
      "cell_type": "code",
      "metadata": {
        "id": "41cEaT_V2-tQ"
      },
      "source": [
        "inp = Input((max_len,))\n",
        "emb = Embedding(vocuablary_len , output_dim = embed_vector_len , input_length = max_len ,\n",
        "                      weights = [embed_matrix] , trainable = False)(inp)\n",
        "output = LSTM(128 , return_sequences = True)(emb)\n",
        "output = Dropout(0.6)(output)\n",
        "\n",
        "output = LSTM(128 , return_sequences = True)(output)\n",
        "output = Dropout(0.6)(output)\n",
        "\n",
        "output = LSTM(128)(output)\n",
        "\n",
        "output = Dense(1 , activation = \"sigmoid\")(output)\n",
        "\n",
        "model  = Model(inputs = inp , outputs = output )"
      ],
      "execution_count": 172,
      "outputs": []
    },
    {
      "cell_type": "code",
      "metadata": {
        "id": "S9GGzKen9AHN",
        "outputId": "44447b26-4775-4b81-c21c-4eb96d401353",
        "colab": {
          "base_uri": "https://localhost:8080/"
        }
      },
      "source": [
        "model.summary()"
      ],
      "execution_count": 173,
      "outputs": [
        {
          "output_type": "stream",
          "text": [
            "Model: \"model_5\"\n",
            "_________________________________________________________________\n",
            "Layer (type)                 Output Shape              Param #   \n",
            "=================================================================\n",
            "input_10 (InputLayer)        [(None, 150)]             0         \n",
            "_________________________________________________________________\n",
            "embedding_8 (Embedding)      (None, 150, 50)           4783000   \n",
            "_________________________________________________________________\n",
            "lstm_15 (LSTM)               (None, 150, 128)          91648     \n",
            "_________________________________________________________________\n",
            "dropout_10 (Dropout)         (None, 150, 128)          0         \n",
            "_________________________________________________________________\n",
            "lstm_16 (LSTM)               (None, 150, 128)          131584    \n",
            "_________________________________________________________________\n",
            "dropout_11 (Dropout)         (None, 150, 128)          0         \n",
            "_________________________________________________________________\n",
            "lstm_17 (LSTM)               (None, 128)               131584    \n",
            "_________________________________________________________________\n",
            "dense_5 (Dense)              (None, 1)                 129       \n",
            "=================================================================\n",
            "Total params: 5,137,945\n",
            "Trainable params: 354,945\n",
            "Non-trainable params: 4,783,000\n",
            "_________________________________________________________________\n"
          ],
          "name": "stdout"
        }
      ]
    },
    {
      "cell_type": "code",
      "metadata": {
        "id": "sOLUVBAH-Cel"
      },
      "source": [
        "from keras.preprocessing.sequence import pad_sequences"
      ],
      "execution_count": 117,
      "outputs": []
    },
    {
      "cell_type": "code",
      "metadata": {
        "id": "N79fJAwN6zLP"
      },
      "source": [
        "X_train_indices = tokinezer.texts_to_sequences(x_train)\n",
        "\n",
        "X_train_indices = pad_sequences(X_train_indices, maxlen= max_len, padding='post')"
      ],
      "execution_count": 174,
      "outputs": []
    },
    {
      "cell_type": "code",
      "metadata": {
        "id": "j6_q4bl4-njT",
        "outputId": "f37ee4f0-7b64-4250-8db2-b22ae460a199",
        "colab": {
          "base_uri": "https://localhost:8080/"
        }
      },
      "source": [
        "X_train_indices.shape"
      ],
      "execution_count": 175,
      "outputs": [
        {
          "output_type": "execute_result",
          "data": {
            "text/plain": [
              "(40000, 150)"
            ]
          },
          "metadata": {
            "tags": []
          },
          "execution_count": 175
        }
      ]
    },
    {
      "cell_type": "code",
      "metadata": {
        "id": "OWcJntLT_c30"
      },
      "source": [
        "model.compile(optimizer = \"adam\" , loss = \"binary_crossentropy\" , metrics = [\"accuracy\"])"
      ],
      "execution_count": 176,
      "outputs": []
    },
    {
      "cell_type": "code",
      "metadata": {
        "id": "wvb0cyJA-zbD",
        "outputId": "ef6e1599-4cf6-464e-ffa3-fdea1fa381ca",
        "colab": {
          "base_uri": "https://localhost:8080/"
        }
      },
      "source": [
        "model.fit(X_train_indices , y_train , batch_size = 64 , epochs = 20)"
      ],
      "execution_count": 177,
      "outputs": [
        {
          "output_type": "stream",
          "text": [
            "Epoch 1/20\n",
            "625/625 [==============================] - 22s 29ms/step - loss: 0.6953 - accuracy: 0.5053\n",
            "Epoch 2/20\n",
            "625/625 [==============================] - 17s 26ms/step - loss: 0.6928 - accuracy: 0.5135\n",
            "Epoch 3/20\n",
            "625/625 [==============================] - 17s 27ms/step - loss: 0.6907 - accuracy: 0.5156\n",
            "Epoch 4/20\n",
            "625/625 [==============================] - 18s 28ms/step - loss: 0.6863 - accuracy: 0.5231\n",
            "Epoch 5/20\n",
            "625/625 [==============================] - 18s 28ms/step - loss: 0.6829 - accuracy: 0.5287\n",
            "Epoch 6/20\n",
            "625/625 [==============================] - 17s 27ms/step - loss: 0.6813 - accuracy: 0.5302\n",
            "Epoch 7/20\n",
            "625/625 [==============================] - 17s 27ms/step - loss: 0.6373 - accuracy: 0.6318\n",
            "Epoch 8/20\n",
            "625/625 [==============================] - 18s 29ms/step - loss: 0.5330 - accuracy: 0.7355\n",
            "Epoch 9/20\n",
            "625/625 [==============================] - 17s 28ms/step - loss: 0.4465 - accuracy: 0.7934\n",
            "Epoch 10/20\n",
            "625/625 [==============================] - 17s 26ms/step - loss: 0.3942 - accuracy: 0.8223\n",
            "Epoch 11/20\n",
            "625/625 [==============================] - 17s 27ms/step - loss: 0.3553 - accuracy: 0.8449\n",
            "Epoch 12/20\n",
            "625/625 [==============================] - 18s 29ms/step - loss: 0.3419 - accuracy: 0.8505\n",
            "Epoch 13/20\n",
            "625/625 [==============================] - 17s 27ms/step - loss: 0.2982 - accuracy: 0.8756\n",
            "Epoch 14/20\n",
            "625/625 [==============================] - 16s 26ms/step - loss: 0.2838 - accuracy: 0.8827\n",
            "Epoch 15/20\n",
            "625/625 [==============================] - 17s 27ms/step - loss: 0.2573 - accuracy: 0.8967\n",
            "Epoch 16/20\n",
            "625/625 [==============================] - 18s 29ms/step - loss: 0.2250 - accuracy: 0.9112\n",
            "Epoch 17/20\n",
            "625/625 [==============================] - 17s 28ms/step - loss: 0.2122 - accuracy: 0.9170\n",
            "Epoch 18/20\n",
            "625/625 [==============================] - 18s 29ms/step - loss: 0.1830 - accuracy: 0.9298\n",
            "Epoch 19/20\n",
            "625/625 [==============================] - 17s 27ms/step - loss: 0.1568 - accuracy: 0.9409\n",
            "Epoch 20/20\n",
            "625/625 [==============================] - 16s 26ms/step - loss: 0.1398 - accuracy: 0.9498\n"
          ],
          "name": "stdout"
        },
        {
          "output_type": "execute_result",
          "data": {
            "text/plain": [
              "<keras.callbacks.History at 0x7f5906fadb50>"
            ]
          },
          "metadata": {
            "tags": []
          },
          "execution_count": 177
        }
      ]
    },
    {
      "cell_type": "code",
      "metadata": {
        "id": "xfG7s_JUA7Nf"
      },
      "source": [
        "X_test_indices = tokinezer.texts_to_sequences(x_test)\n",
        "\n",
        "X_test_indices = pad_sequences(X_test_indices, maxlen=max_len, padding='post')"
      ],
      "execution_count": 178,
      "outputs": []
    },
    {
      "cell_type": "code",
      "metadata": {
        "id": "tEmWQ34tICCx",
        "outputId": "8e7ee12e-d5f1-4b49-93d1-61fb3956428a",
        "colab": {
          "base_uri": "https://localhost:8080/"
        }
      },
      "source": [
        "model.evaluate(X_test_indices , y_test)"
      ],
      "execution_count": 180,
      "outputs": [
        {
          "output_type": "stream",
          "text": [
            "313/313 [==============================] - 5s 13ms/step - loss: 0.6229 - accuracy: 0.8129\n"
          ],
          "name": "stdout"
        },
        {
          "output_type": "execute_result",
          "data": {
            "text/plain": [
              "[0.6228709816932678, 0.8129000067710876]"
            ]
          },
          "metadata": {
            "tags": []
          },
          "execution_count": 180
        }
      ]
    },
    {
      "cell_type": "code",
      "metadata": {
        "id": "ci575BRUBqSd",
        "outputId": "3c951697-6bc1-44b5-e50f-6d61f2b5f2f5",
        "colab": {
          "base_uri": "https://localhost:8080/"
        }
      },
      "source": [
        "preds = model.predict(X_test_indices)\n",
        "\n",
        "n = np.random.randint(0,9999)\n",
        "\n",
        "print(x_test[n])\n",
        "\n",
        "if preds[n] > 0.5:\n",
        "  print('predicted sentiment : positive')\n",
        "else: \n",
        "  print('precicted sentiment : negative')\n",
        "\n",
        "if (y_test[n] == 1):\n",
        "  print('correct sentiment : positive')\n",
        "else:\n",
        "  print('correct sentiment : negative')"
      ],
      "execution_count": 181,
      "outputs": [
        {
          "output_type": "stream",
          "text": [
            "put dvd player hit  play   will experience brief moment silence see black screen laser guided correct starting point center disc  cherish moment  make sure tylenol something  preferably pm s can fall asleep   going massive headache movie starts starring bunch big breasted girls opening actually made chuckle bit  thought good time  sure  opening sequence wee bit awkward jokes fell flat seemed like going scream ripoff  by way  sole chuckle julie strain s final comment scene   knew trouble    opening sequence terrible rock song  terrible rock song  looked dvd chapter titles saw things said  topless backyard    better sex    knew selling point movie going be and sad truth  good thing movie attractive cast  that  sadly routine slasher film throws  innovative  concept murder clubs  ends fake anyway  so  whole movie points another direction try confusing huge mystery  just adds not interesting leaves feeling like don t care characters  mean  main character movie revealed murdered innocent woman  can really feel sympathy towards fear life  scream influence prevalent throughout  ghost face killer really terrible jokes  also treated scenes main character talking mom dad  lloyd kaufman  cool part movie   abortion something  uh  yeah    isn t  so bad it s good  movie  just bad someone compared troma film  but    know  film comes full moon  or offshoot  film proves  horrible  not horrible troma sense    seen many troma films  can honestly say offer something  anything can walk away tell friends later  however  film pretty much nothing enjoyable it  beware \n",
            "precicted sentiment : negative\n",
            "correct sentiment : negative\n"
          ],
          "name": "stdout"
        }
      ]
    }
  ]
}